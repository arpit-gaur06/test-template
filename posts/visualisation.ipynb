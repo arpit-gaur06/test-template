{
 "cells": [
  {
   "cell_type": "raw",
   "metadata": {
    "vscode": {
     "languageId": "raw"
    }
   },
   "source": [
    "---\n",
    "author: Arpit Gaur, Prince A Patel, Monika Nagliya\n",
    "badges: true\n",
    "categories:\n",
    "- VISUALIZATION\n",
    "date: '2025-02-22'\n",
    "title: Simple Visualisations and Examples\n",
    "description: Examples and Explanations\n",
    "toc: true\n",
    "---"
   ]
  },
  {
   "cell_type": "markdown",
   "metadata": {},
   "source": [
    "After the installation, we can start using PyVista for 3D visualization. Here area some simple example to plot and analyse 3D mesh:"
   ]
  },
  {
   "cell_type": "code",
   "execution_count": 1,
   "metadata": {},
   "outputs": [
    {
     "data": {
      "application/vnd.jupyter.widget-view+json": {
       "model_id": "c670599ebb0d458ea9c7965d9a8ec0a0",
       "version_major": 2,
       "version_minor": 0
      },
      "text/plain": [
       "Widget(value='<iframe src=\"http://localhost:57417/index.html?ui=P_0x1c6dd392360_0&reconnect=auto\" class=\"pyvis…"
      ]
     },
     "metadata": {},
     "output_type": "display_data"
    }
   ],
   "source": [
    "import pyvista as pv\n",
    "\n",
    "# Create a simple mesh (sphere)\n",
    "sphere = pv.Sphere()\n",
    "\n",
    "# Plot the mesh\n",
    "sphere.plot()"
   ]
  },
  {
   "cell_type": "code",
   "execution_count": 2,
   "metadata": {},
   "outputs": [],
   "source": [
    "from pyvista import examples"
   ]
  },
  {
   "cell_type": "code",
   "execution_count": 3,
   "metadata": {},
   "outputs": [
    {
     "data": {
      "text/html": [
       "<table style='width: 100%;'><tr><th>Header</th><th>Data Arrays</th></tr><tr><td>\n",
       "<table style='width: 100%;'>\n",
       "<tr><th>PolyData</th><th>Information</th></tr>\n",
       "<tr><td>N Cells</td><td>3709</td></tr>\n",
       "<tr><td>N Points</td><td>3731</td></tr>\n",
       "<tr><td>N Strips</td><td>0</td></tr>\n",
       "<tr><td>X Bounds</td><td>-1.000e+01, 1.000e+01</td></tr>\n",
       "<tr><td>Y Bounds</td><td>-2.309e-14, 2.000e+01</td></tr>\n",
       "<tr><td>Z Bounds</td><td>9.573e-01, 7.483e+00</td></tr>\n",
       "<tr><td>N Arrays</td><td>2</td></tr>\n",
       "</table>\n",
       "\n",
       "</td><td>\n",
       "<table style='width: 100%;'>\n",
       "<tr><th>Name</th><th>Field</th><th>Type</th><th>N Comp</th><th>Min</th><th>Max</th></tr>\n",
       "<tr><td>Normals</td><td>Points</td><td>float32</td><td>3</td><td>-8.643e-01</td><td>9.992e-01</td></tr>\n",
       "<tr><td><b>Elevation</b></td><td>Points</td><td>float32</td><td>1</td><td>9.573e-01</td><td>7.483e+00</td></tr>\n",
       "</table>\n",
       "\n",
       "</td></tr> </table>"
      ],
      "text/plain": [
       "PolyData (0x1c6f15c9480)\n",
       "  N Cells:    3709\n",
       "  N Points:   3731\n",
       "  N Strips:   0\n",
       "  X Bounds:   -1.000e+01, 1.000e+01\n",
       "  Y Bounds:   -2.309e-14, 2.000e+01\n",
       "  Z Bounds:   9.573e-01, 7.483e+00\n",
       "  N Arrays:   2"
      ]
     },
     "execution_count": 3,
     "metadata": {},
     "output_type": "execute_result"
    }
   ],
   "source": [
    "mesh = examples.load_random_hills() # automatically download\n",
    "contours = mesh.contour()\n",
    "contours"
   ]
  },
  {
   "cell_type": "code",
   "execution_count": 4,
   "metadata": {},
   "outputs": [
    {
     "data": {
      "application/vnd.jupyter.widget-view+json": {
       "model_id": "8f740024752c438ebf0e93dedb1043b2",
       "version_major": 2,
       "version_minor": 0
      },
      "text/plain": [
       "Widget(value='<iframe src=\"http://localhost:57417/index.html?ui=P_0x1c6e02bac60_1&reconnect=auto\" class=\"pyvis…"
      ]
     },
     "metadata": {},
     "output_type": "display_data"
    }
   ],
   "source": [
    "mesh.plot()"
   ]
  },
  {
   "cell_type": "code",
   "execution_count": 5,
   "metadata": {},
   "outputs": [
    {
     "data": {
      "text/html": [
       "<table style='width: 100%;'><tr><th>Header</th><th>Data Arrays</th></tr><tr><td>\n",
       "<table style='width: 100%;'>\n",
       "<tr><th>ImageData</th><th>Information</th></tr>\n",
       "<tr><td>N Cells</td><td>7880599</td></tr>\n",
       "<tr><td>N Points</td><td>8000000</td></tr>\n",
       "<tr><td>X Bounds</td><td>0.000e+00, 1.990e+02</td></tr>\n",
       "<tr><td>Y Bounds</td><td>0.000e+00, 1.990e+02</td></tr>\n",
       "<tr><td>Z Bounds</td><td>0.000e+00, 1.990e+02</td></tr>\n",
       "<tr><td>Dimensions</td><td>200, 200, 200</td></tr>\n",
       "<tr><td>Spacing</td><td>1.000e+00, 1.000e+00, 1.000e+00</td></tr>\n",
       "<tr><td>N Arrays</td><td>1</td></tr>\n",
       "</table>\n",
       "\n",
       "</td><td>\n",
       "<table style='width: 100%;'>\n",
       "<tr><th>Name</th><th>Field</th><th>Type</th><th>N Comp</th><th>Min</th><th>Max</th></tr>\n",
       "<tr><td><b>scalars</b></td><td>Points</td><td>float64</td><td>1</td><td>8.660e-01</td><td>1.723e+02</td></tr>\n",
       "</table>\n",
       "\n",
       "</td></tr> </table>"
      ],
      "text/plain": [
       "ImageData (0x1c6f15cbe80)\n",
       "  N Cells:      7880599\n",
       "  N Points:     8000000\n",
       "  X Bounds:     0.000e+00, 1.990e+02\n",
       "  Y Bounds:     0.000e+00, 1.990e+02\n",
       "  Z Bounds:     0.000e+00, 1.990e+02\n",
       "  Dimensions:   200, 200, 200\n",
       "  Spacing:      1.000e+00, 1.000e+00, 1.000e+00\n",
       "  N Arrays:     1"
      ]
     },
     "execution_count": 5,
     "metadata": {},
     "output_type": "execute_result"
    }
   ],
   "source": [
    "import numpy as np\n",
    "\n",
    "import pyvista as pv\n",
    "\n",
    "grid = pv.ImageData(dimensions=(200, 200, 200))\n",
    "grid['scalars'] = np.linalg.norm(grid.center - grid.points, axis=1)\n",
    "grid"
   ]
  },
  {
   "cell_type": "code",
   "execution_count": 6,
   "metadata": {},
   "outputs": [],
   "source": [
    "opacity = np.zeros(100)\n",
    "opacity[::10] = np.geomspace(0.01, 0.75, 10)"
   ]
  },
  {
   "cell_type": "code",
   "execution_count": 7,
   "metadata": {},
   "outputs": [
    {
     "data": {
      "application/vnd.jupyter.widget-view+json": {
       "model_id": "818838b1770e4099b0850ebf9e4bcda9",
       "version_major": 2,
       "version_minor": 0
      },
      "text/plain": [
       "Widget(value='<iframe src=\"http://localhost:57417/index.html?ui=P_0x1c6f16a5be0_2&reconnect=auto\" class=\"pyvis…"
      ]
     },
     "metadata": {},
     "output_type": "display_data"
    }
   ],
   "source": [
    "pl = pv.Plotter()\n",
    "pl.add_volume_clip_plane(grid, normal='-x', opacity=opacity[::-1], cmap='magma')\n",
    "pl.show()"
   ]
  },
  {
   "cell_type": "code",
   "execution_count": 8,
   "metadata": {},
   "outputs": [
    {
     "data": {
      "application/vnd.jupyter.widget-view+json": {
       "model_id": "9e1ed82048f9458d86e0fbf4b55c8c5b",
       "version_major": 2,
       "version_minor": 0
      },
      "text/plain": [
       "Widget(value='<iframe src=\"http://localhost:57417/index.html?ui=P_0x1c6ae6924b0_3&reconnect=auto\" class=\"pyvis…"
      ]
     },
     "metadata": {},
     "output_type": "display_data"
    }
   ],
   "source": [
    "import numpy as np\n",
    "import pyvista\n",
    "\n",
    "rng = np.random.default_rng(seed=0)\n",
    "point_cloud = rng.random((100, 3))\n",
    "pdata = pyvista.PolyData(point_cloud)\n",
    "pdata['orig_sphere'] = np.arange(100)\n",
    "\n",
    "# create many spheres from the point cloud\n",
    "sphere = pyvista.Sphere(radius=0.02, phi_resolution=10, theta_resolution=10)\n",
    "pc = pdata.glyph(scale=False, geom=sphere, orient=False)\n",
    "pc.plot(cmap='Reds')"
   ]
  },
  {
   "cell_type": "code",
   "execution_count": 9,
   "metadata": {},
   "outputs": [
    {
     "data": {
      "application/vnd.jupyter.widget-view+json": {
       "model_id": "a720d80c023540f1b670c0a0535fefe0",
       "version_major": 2,
       "version_minor": 0
      },
      "text/plain": [
       "Widget(value='<iframe src=\"http://localhost:57417/index.html?ui=P_0x1c6ae6ae870_4&reconnect=auto\" class=\"pyvis…"
      ]
     },
     "metadata": {},
     "output_type": "display_data"
    }
   ],
   "source": [
    "from pyvista import examples\n",
    "mesh = examples.download_dragon()\n",
    "mesh['scalars'] = mesh.points[:, 1]\n",
    "mesh.plot(cpos='xy', cmap='plasma')"
   ]
  },
  {
   "cell_type": "code",
   "execution_count": null,
   "metadata": {},
   "outputs": [],
   "source": []
  }
 ],
 "metadata": {
  "kernelspec": {
   "display_name": "Python 3",
   "language": "python",
   "name": "python3"
  },
  "language_info": {
   "codemirror_mode": {
    "name": "ipython",
    "version": 3
   },
   "file_extension": ".py",
   "mimetype": "text/x-python",
   "name": "python",
   "nbconvert_exporter": "python",
   "pygments_lexer": "ipython3",
   "version": "3.12.5"
  }
 },
 "nbformat": 4,
 "nbformat_minor": 2
}
