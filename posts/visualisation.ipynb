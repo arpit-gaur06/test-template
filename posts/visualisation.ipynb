{
 "cells": [
  {
   "cell_type": "raw",
   "metadata": {
    "vscode": {
     "languageId": "raw"
    }
   },
   "source": [
    "---\n",
    "author: Arpit Gaur, Prince A Patel, Monika Nagliya\n",
    "badges: true\n",
    "categories:\n",
    "- VISUALIZATION\n",
    "date: '2025-02-14'\n",
    "title: Simple Visualisations and Examples\n",
    "description: Examples and Explanations\n",
    "toc: true\n",
    "---"
   ]
  },
  {
   "cell_type": "markdown",
   "metadata": {},
   "source": [
    "After the installation, we can start using PyVista for 3D visualization. Here area some simple example to plot and analyse 3D mesh:"
   ]
  },
  {
   "cell_type": "code",
   "execution_count": 14,
   "metadata": {},
   "outputs": [
    {
     "data": {
      "application/vnd.jupyter.widget-view+json": {
       "model_id": "884290c729394620b581a794cb0df0fb",
       "version_major": 2,
       "version_minor": 0
      },
      "text/plain": [
       "Widget(value='<iframe src=\"http://localhost:52112/index.html?ui=P_0x20a063a07a0_7&reconnect=auto\" class=\"pyvis…"
      ]
     },
     "metadata": {},
     "output_type": "display_data"
    }
   ],
   "source": [
    "import pyvista as pv\n",
    "\n",
    "# Create a simple mesh (sphere)\n",
    "sphere = pv.Sphere()\n",
    "\n",
    "# Plot the mesh\n",
    "sphere.plot()"
   ]
  },
  {
   "cell_type": "code",
   "execution_count": 15,
   "metadata": {},
   "outputs": [],
   "source": [
    "from pyvista import examples"
   ]
  },
  {
   "cell_type": "code",
   "execution_count": 16,
   "metadata": {},
   "outputs": [
    {
     "data": {
      "text/html": [
       "<table style='width: 100%;'><tr><th>Header</th><th>Data Arrays</th></tr><tr><td>\n",
       "<table style='width: 100%;'>\n",
       "<tr><th>PolyData</th><th>Information</th></tr>\n",
       "<tr><td>N Cells</td><td>3709</td></tr>\n",
       "<tr><td>N Points</td><td>3731</td></tr>\n",
       "<tr><td>N Strips</td><td>0</td></tr>\n",
       "<tr><td>X Bounds</td><td>-1.000e+01, 1.000e+01</td></tr>\n",
       "<tr><td>Y Bounds</td><td>-2.309e-14, 2.000e+01</td></tr>\n",
       "<tr><td>Z Bounds</td><td>9.573e-01, 7.483e+00</td></tr>\n",
       "<tr><td>N Arrays</td><td>2</td></tr>\n",
       "</table>\n",
       "\n",
       "</td><td>\n",
       "<table style='width: 100%;'>\n",
       "<tr><th>Name</th><th>Field</th><th>Type</th><th>N Comp</th><th>Min</th><th>Max</th></tr>\n",
       "<tr><td>Normals</td><td>Points</td><td>float32</td><td>3</td><td>-8.643e-01</td><td>9.992e-01</td></tr>\n",
       "<tr><td><b>Elevation</b></td><td>Points</td><td>float32</td><td>1</td><td>9.573e-01</td><td>7.483e+00</td></tr>\n",
       "</table>\n",
       "\n",
       "</td></tr> </table>"
      ],
      "text/plain": [
       "PolyData (0x20a0cdc58a0)\n",
       "  N Cells:    3709\n",
       "  N Points:   3731\n",
       "  N Strips:   0\n",
       "  X Bounds:   -1.000e+01, 1.000e+01\n",
       "  Y Bounds:   -2.309e-14, 2.000e+01\n",
       "  Z Bounds:   9.573e-01, 7.483e+00\n",
       "  N Arrays:   2"
      ]
     },
     "execution_count": 16,
     "metadata": {},
     "output_type": "execute_result"
    }
   ],
   "source": [
    "mesh = examples.load_random_hills() # automatically download\n",
    "contours = mesh.contour()\n",
    "contours"
   ]
  },
  {
   "cell_type": "code",
   "execution_count": 17,
   "metadata": {},
   "outputs": [
    {
     "data": {
      "application/vnd.jupyter.widget-view+json": {
       "model_id": "410da28e83c245dd908b04a122808791",
       "version_major": 2,
       "version_minor": 0
      },
      "text/plain": [
       "Widget(value='<iframe src=\"http://localhost:52112/index.html?ui=P_0x20a06389250_8&reconnect=auto\" class=\"pyvis…"
      ]
     },
     "metadata": {},
     "output_type": "display_data"
    }
   ],
   "source": [
    "mesh.plot()"
   ]
  },
  {
   "cell_type": "code",
   "execution_count": 18,
   "metadata": {},
   "outputs": [
    {
     "data": {
      "text/html": [
       "<table style='width: 100%;'><tr><th>Header</th><th>Data Arrays</th></tr><tr><td>\n",
       "<table style='width: 100%;'>\n",
       "<tr><th>ImageData</th><th>Information</th></tr>\n",
       "<tr><td>N Cells</td><td>7880599</td></tr>\n",
       "<tr><td>N Points</td><td>8000000</td></tr>\n",
       "<tr><td>X Bounds</td><td>0.000e+00, 1.990e+02</td></tr>\n",
       "<tr><td>Y Bounds</td><td>0.000e+00, 1.990e+02</td></tr>\n",
       "<tr><td>Z Bounds</td><td>0.000e+00, 1.990e+02</td></tr>\n",
       "<tr><td>Dimensions</td><td>200, 200, 200</td></tr>\n",
       "<tr><td>Spacing</td><td>1.000e+00, 1.000e+00, 1.000e+00</td></tr>\n",
       "<tr><td>N Arrays</td><td>1</td></tr>\n",
       "</table>\n",
       "\n",
       "</td><td>\n",
       "<table style='width: 100%;'>\n",
       "<tr><th>Name</th><th>Field</th><th>Type</th><th>N Comp</th><th>Min</th><th>Max</th></tr>\n",
       "<tr><td><b>scalars</b></td><td>Points</td><td>float64</td><td>1</td><td>8.660e-01</td><td>1.723e+02</td></tr>\n",
       "</table>\n",
       "\n",
       "</td></tr> </table>"
      ],
      "text/plain": [
       "ImageData (0x20a070e7400)\n",
       "  N Cells:      7880599\n",
       "  N Points:     8000000\n",
       "  X Bounds:     0.000e+00, 1.990e+02\n",
       "  Y Bounds:     0.000e+00, 1.990e+02\n",
       "  Z Bounds:     0.000e+00, 1.990e+02\n",
       "  Dimensions:   200, 200, 200\n",
       "  Spacing:      1.000e+00, 1.000e+00, 1.000e+00\n",
       "  N Arrays:     1"
      ]
     },
     "execution_count": 18,
     "metadata": {},
     "output_type": "execute_result"
    }
   ],
   "source": [
    "import numpy as np\n",
    "\n",
    "import pyvista as pv\n",
    "\n",
    "grid = pv.ImageData(dimensions=(200, 200, 200))\n",
    "grid['scalars'] = np.linalg.norm(grid.center - grid.points, axis=1)\n",
    "grid"
   ]
  },
  {
   "cell_type": "code",
   "execution_count": 19,
   "metadata": {},
   "outputs": [],
   "source": [
    "opacity = np.zeros(100)\n",
    "opacity[::10] = np.geomspace(0.01, 0.75, 10)"
   ]
  },
  {
   "cell_type": "code",
   "execution_count": 20,
   "metadata": {},
   "outputs": [
    {
     "data": {
      "application/vnd.jupyter.widget-view+json": {
       "model_id": "3383cf7511b74f8cb95af97be34840ff",
       "version_major": 2,
       "version_minor": 0
      },
      "text/plain": [
       "Widget(value='<iframe src=\"http://localhost:52112/index.html?ui=P_0x209800e5be0_9&reconnect=auto\" class=\"pyvis…"
      ]
     },
     "metadata": {},
     "output_type": "display_data"
    }
   ],
   "source": [
    "pl = pv.Plotter()\n",
    "pl.add_volume_clip_plane(grid, normal='-x', opacity=opacity[::-1], cmap='magma')\n",
    "pl.show()"
   ]
  },
  {
   "cell_type": "code",
   "execution_count": 22,
   "metadata": {},
   "outputs": [
    {
     "data": {
      "application/vnd.jupyter.widget-view+json": {
       "model_id": "0638ecff50fa488e8594af3d5e7cca53",
       "version_major": 2,
       "version_minor": 0
      },
      "text/plain": [
       "Widget(value='<iframe src=\"http://localhost:52112/index.html?ui=P_0x209c8cc0830_11&reconnect=auto\" class=\"pyvi…"
      ]
     },
     "metadata": {},
     "output_type": "display_data"
    }
   ],
   "source": [
    "import numpy as np\n",
    "import pyvista\n",
    "\n",
    "rng = np.random.default_rng(seed=0)\n",
    "point_cloud = rng.random((100, 3))\n",
    "pdata = pyvista.PolyData(point_cloud)\n",
    "pdata['orig_sphere'] = np.arange(100)\n",
    "\n",
    "# create many spheres from the point cloud\n",
    "sphere = pyvista.Sphere(radius=0.02, phi_resolution=10, theta_resolution=10)\n",
    "pc = pdata.glyph(scale=False, geom=sphere, orient=False)\n",
    "pc.plot(cmap='Reds')"
   ]
  },
  {
   "cell_type": "code",
   "execution_count": 24,
   "metadata": {},
   "outputs": [
    {
     "data": {
      "application/vnd.jupyter.widget-view+json": {
       "model_id": "908aba7f230e44d5a27966986b496ac2",
       "version_major": 2,
       "version_minor": 0
      },
      "text/plain": [
       "Widget(value='<iframe src=\"http://localhost:52112/index.html?ui=P_0x20a064c3800_12&reconnect=auto\" class=\"pyvi…"
      ]
     },
     "metadata": {},
     "output_type": "display_data"
    }
   ],
   "source": [
    "from pyvista import examples\n",
    "mesh = examples.download_dragon()\n",
    "mesh['scalars'] = mesh.points[:, 1]\n",
    "mesh.plot(cpos='xy', cmap='plasma')"
   ]
  },
  {
   "cell_type": "code",
   "execution_count": null,
   "metadata": {},
   "outputs": [],
   "source": []
  }
 ],
 "metadata": {
  "kernelspec": {
   "display_name": "Python 3",
   "language": "python",
   "name": "python3"
  },
  "language_info": {
   "codemirror_mode": {
    "name": "ipython",
    "version": 3
   },
   "file_extension": ".py",
   "mimetype": "text/x-python",
   "name": "python",
   "nbconvert_exporter": "python",
   "pygments_lexer": "ipython3",
   "version": "3.12.5"
  }
 },
 "nbformat": 4,
 "nbformat_minor": 2
}
